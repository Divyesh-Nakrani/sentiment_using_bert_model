{
  "nbformat": 4,
  "nbformat_minor": 0,
  "metadata": {
    "colab": {
      "provenance": [],
      "gpuType": "T4",
      "authorship_tag": "ABX9TyOtY5CDruawd/bqpmlv5oWF",
      "include_colab_link": true
    },
    "kernelspec": {
      "name": "python3",
      "display_name": "Python 3"
    },
    "language_info": {
      "name": "python"
    },
    "accelerator": "GPU",
    "gpuClass": "standard"
  },
  "cells": [
    {
      "cell_type": "markdown",
      "metadata": {
        "id": "view-in-github",
        "colab_type": "text"
      },
      "source": [
        "<a href=\"https://colab.research.google.com/github/dn-bit/sentiment_using_bert_model/blob/main/using_bert.ipynb\" target=\"_parent\"><img src=\"https://colab.research.google.com/assets/colab-badge.svg\" alt=\"Open In Colab\"/></a>"
      ]
    },
    {
      "cell_type": "code",
      "execution_count": 4,
      "metadata": {
        "id": "lKUhIRb03H6E"
      },
      "outputs": [],
      "source": [
        "import pandas as pd"
      ]
    },
    {
      "cell_type": "code",
      "source": [
        "df=pd.read_csv(\"IMDB_Dataset (1).csv\",error_bad_lines=False)"
      ],
      "metadata": {
        "colab": {
          "base_uri": "https://localhost:8080/"
        },
        "id": "ZqDwXVUDPF-5",
        "outputId": "1ed318a2-3067-4d17-b25b-fefc9449aa60"
      },
      "execution_count": 6,
      "outputs": [
        {
          "output_type": "stream",
          "name": "stderr",
          "text": [
            "<ipython-input-6-efe4b12d12f7>:1: FutureWarning: The error_bad_lines argument has been deprecated and will be removed in a future version. Use on_bad_lines in the future.\n",
            "\n",
            "\n",
            "  df=pd.read_csv(\"IMDB_Dataset (1).csv\",error_bad_lines=False)\n"
          ]
        }
      ]
    },
    {
      "cell_type": "code",
      "source": [
        "df.shape"
      ],
      "metadata": {
        "colab": {
          "base_uri": "https://localhost:8080/"
        },
        "id": "8K0eNfqyJDPm",
        "outputId": "fee58cad-0d3c-4af3-fa9c-e385af7c4784"
      },
      "execution_count": 7,
      "outputs": [
        {
          "output_type": "execute_result",
          "data": {
            "text/plain": [
              "(5526, 2)"
            ]
          },
          "metadata": {},
          "execution_count": 7
        }
      ]
    },
    {
      "cell_type": "code",
      "source": [
        "df.head()"
      ],
      "metadata": {
        "colab": {
          "base_uri": "https://localhost:8080/",
          "height": 206
        },
        "id": "DOtjnS_YOlbg",
        "outputId": "8030b9a9-419b-4d61-d33a-dbd80f43d14c"
      },
      "execution_count": 8,
      "outputs": [
        {
          "output_type": "execute_result",
          "data": {
            "text/plain": [
              "                                              review sentiment\n",
              "0  One of the other reviewers has mentioned that ...  positive\n",
              "1  A wonderful little production. <br /><br />The...  positive\n",
              "2  I thought this was a wonderful way to spend ti...  positive\n",
              "3  Basically there's a family where a little boy ...  negative\n",
              "4  Petter Mattei's \"Love in the Time of Money\" is...  positive"
            ],
            "text/html": [
              "\n",
              "  <div id=\"df-97134705-bf0d-4a39-9901-609a62585ede\">\n",
              "    <div class=\"colab-df-container\">\n",
              "      <div>\n",
              "<style scoped>\n",
              "    .dataframe tbody tr th:only-of-type {\n",
              "        vertical-align: middle;\n",
              "    }\n",
              "\n",
              "    .dataframe tbody tr th {\n",
              "        vertical-align: top;\n",
              "    }\n",
              "\n",
              "    .dataframe thead th {\n",
              "        text-align: right;\n",
              "    }\n",
              "</style>\n",
              "<table border=\"1\" class=\"dataframe\">\n",
              "  <thead>\n",
              "    <tr style=\"text-align: right;\">\n",
              "      <th></th>\n",
              "      <th>review</th>\n",
              "      <th>sentiment</th>\n",
              "    </tr>\n",
              "  </thead>\n",
              "  <tbody>\n",
              "    <tr>\n",
              "      <th>0</th>\n",
              "      <td>One of the other reviewers has mentioned that ...</td>\n",
              "      <td>positive</td>\n",
              "    </tr>\n",
              "    <tr>\n",
              "      <th>1</th>\n",
              "      <td>A wonderful little production. &lt;br /&gt;&lt;br /&gt;The...</td>\n",
              "      <td>positive</td>\n",
              "    </tr>\n",
              "    <tr>\n",
              "      <th>2</th>\n",
              "      <td>I thought this was a wonderful way to spend ti...</td>\n",
              "      <td>positive</td>\n",
              "    </tr>\n",
              "    <tr>\n",
              "      <th>3</th>\n",
              "      <td>Basically there's a family where a little boy ...</td>\n",
              "      <td>negative</td>\n",
              "    </tr>\n",
              "    <tr>\n",
              "      <th>4</th>\n",
              "      <td>Petter Mattei's \"Love in the Time of Money\" is...</td>\n",
              "      <td>positive</td>\n",
              "    </tr>\n",
              "  </tbody>\n",
              "</table>\n",
              "</div>\n",
              "      <button class=\"colab-df-convert\" onclick=\"convertToInteractive('df-97134705-bf0d-4a39-9901-609a62585ede')\"\n",
              "              title=\"Convert this dataframe to an interactive table.\"\n",
              "              style=\"display:none;\">\n",
              "        \n",
              "  <svg xmlns=\"http://www.w3.org/2000/svg\" height=\"24px\"viewBox=\"0 0 24 24\"\n",
              "       width=\"24px\">\n",
              "    <path d=\"M0 0h24v24H0V0z\" fill=\"none\"/>\n",
              "    <path d=\"M18.56 5.44l.94 2.06.94-2.06 2.06-.94-2.06-.94-.94-2.06-.94 2.06-2.06.94zm-11 1L8.5 8.5l.94-2.06 2.06-.94-2.06-.94L8.5 2.5l-.94 2.06-2.06.94zm10 10l.94 2.06.94-2.06 2.06-.94-2.06-.94-.94-2.06-.94 2.06-2.06.94z\"/><path d=\"M17.41 7.96l-1.37-1.37c-.4-.4-.92-.59-1.43-.59-.52 0-1.04.2-1.43.59L10.3 9.45l-7.72 7.72c-.78.78-.78 2.05 0 2.83L4 21.41c.39.39.9.59 1.41.59.51 0 1.02-.2 1.41-.59l7.78-7.78 2.81-2.81c.8-.78.8-2.07 0-2.86zM5.41 20L4 18.59l7.72-7.72 1.47 1.35L5.41 20z\"/>\n",
              "  </svg>\n",
              "      </button>\n",
              "      \n",
              "  <style>\n",
              "    .colab-df-container {\n",
              "      display:flex;\n",
              "      flex-wrap:wrap;\n",
              "      gap: 12px;\n",
              "    }\n",
              "\n",
              "    .colab-df-convert {\n",
              "      background-color: #E8F0FE;\n",
              "      border: none;\n",
              "      border-radius: 50%;\n",
              "      cursor: pointer;\n",
              "      display: none;\n",
              "      fill: #1967D2;\n",
              "      height: 32px;\n",
              "      padding: 0 0 0 0;\n",
              "      width: 32px;\n",
              "    }\n",
              "\n",
              "    .colab-df-convert:hover {\n",
              "      background-color: #E2EBFA;\n",
              "      box-shadow: 0px 1px 2px rgba(60, 64, 67, 0.3), 0px 1px 3px 1px rgba(60, 64, 67, 0.15);\n",
              "      fill: #174EA6;\n",
              "    }\n",
              "\n",
              "    [theme=dark] .colab-df-convert {\n",
              "      background-color: #3B4455;\n",
              "      fill: #D2E3FC;\n",
              "    }\n",
              "\n",
              "    [theme=dark] .colab-df-convert:hover {\n",
              "      background-color: #434B5C;\n",
              "      box-shadow: 0px 1px 3px 1px rgba(0, 0, 0, 0.15);\n",
              "      filter: drop-shadow(0px 1px 2px rgba(0, 0, 0, 0.3));\n",
              "      fill: #FFFFFF;\n",
              "    }\n",
              "  </style>\n",
              "\n",
              "      <script>\n",
              "        const buttonEl =\n",
              "          document.querySelector('#df-97134705-bf0d-4a39-9901-609a62585ede button.colab-df-convert');\n",
              "        buttonEl.style.display =\n",
              "          google.colab.kernel.accessAllowed ? 'block' : 'none';\n",
              "\n",
              "        async function convertToInteractive(key) {\n",
              "          const element = document.querySelector('#df-97134705-bf0d-4a39-9901-609a62585ede');\n",
              "          const dataTable =\n",
              "            await google.colab.kernel.invokeFunction('convertToInteractive',\n",
              "                                                     [key], {});\n",
              "          if (!dataTable) return;\n",
              "\n",
              "          const docLinkHtml = 'Like what you see? Visit the ' +\n",
              "            '<a target=\"_blank\" href=https://colab.research.google.com/notebooks/data_table.ipynb>data table notebook</a>'\n",
              "            + ' to learn more about interactive tables.';\n",
              "          element.innerHTML = '';\n",
              "          dataTable['output_type'] = 'display_data';\n",
              "          await google.colab.output.renderOutput(dataTable, element);\n",
              "          const docLink = document.createElement('div');\n",
              "          docLink.innerHTML = docLinkHtml;\n",
              "          element.appendChild(docLink);\n",
              "        }\n",
              "      </script>\n",
              "    </div>\n",
              "  </div>\n",
              "  "
            ]
          },
          "metadata": {},
          "execution_count": 8
        }
      ]
    },
    {
      "cell_type": "code",
      "source": [
        "df['sentiment'].value_counts()"
      ],
      "metadata": {
        "colab": {
          "base_uri": "https://localhost:8080/"
        },
        "id": "oD8j9Ve8PpvQ",
        "outputId": "27a9676f-6710-4ef6-a420-cb2bd9565309"
      },
      "execution_count": 9,
      "outputs": [
        {
          "output_type": "execute_result",
          "data": {
            "text/plain": [
              "negative    2788\n",
              "positive    2738\n",
              "Name: sentiment, dtype: int64"
            ]
          },
          "metadata": {},
          "execution_count": 9
        }
      ]
    },
    {
      "cell_type": "code",
      "source": [
        "df['sentiment']=pd.get_dummies(df['sentiment'],drop_first=True)"
      ],
      "metadata": {
        "id": "RbzYRdmDPwPX"
      },
      "execution_count": 10,
      "outputs": []
    },
    {
      "cell_type": "code",
      "source": [
        "df.head()"
      ],
      "metadata": {
        "colab": {
          "base_uri": "https://localhost:8080/",
          "height": 206
        },
        "id": "nszjcQVuQVnI",
        "outputId": "3aff58ec-0793-4478-bea0-a655e5a1a64b"
      },
      "execution_count": 11,
      "outputs": [
        {
          "output_type": "execute_result",
          "data": {
            "text/plain": [
              "                                              review  sentiment\n",
              "0  One of the other reviewers has mentioned that ...          1\n",
              "1  A wonderful little production. <br /><br />The...          1\n",
              "2  I thought this was a wonderful way to spend ti...          1\n",
              "3  Basically there's a family where a little boy ...          0\n",
              "4  Petter Mattei's \"Love in the Time of Money\" is...          1"
            ],
            "text/html": [
              "\n",
              "  <div id=\"df-e2db2388-98dc-45e8-bfce-207d0e1c80ee\">\n",
              "    <div class=\"colab-df-container\">\n",
              "      <div>\n",
              "<style scoped>\n",
              "    .dataframe tbody tr th:only-of-type {\n",
              "        vertical-align: middle;\n",
              "    }\n",
              "\n",
              "    .dataframe tbody tr th {\n",
              "        vertical-align: top;\n",
              "    }\n",
              "\n",
              "    .dataframe thead th {\n",
              "        text-align: right;\n",
              "    }\n",
              "</style>\n",
              "<table border=\"1\" class=\"dataframe\">\n",
              "  <thead>\n",
              "    <tr style=\"text-align: right;\">\n",
              "      <th></th>\n",
              "      <th>review</th>\n",
              "      <th>sentiment</th>\n",
              "    </tr>\n",
              "  </thead>\n",
              "  <tbody>\n",
              "    <tr>\n",
              "      <th>0</th>\n",
              "      <td>One of the other reviewers has mentioned that ...</td>\n",
              "      <td>1</td>\n",
              "    </tr>\n",
              "    <tr>\n",
              "      <th>1</th>\n",
              "      <td>A wonderful little production. &lt;br /&gt;&lt;br /&gt;The...</td>\n",
              "      <td>1</td>\n",
              "    </tr>\n",
              "    <tr>\n",
              "      <th>2</th>\n",
              "      <td>I thought this was a wonderful way to spend ti...</td>\n",
              "      <td>1</td>\n",
              "    </tr>\n",
              "    <tr>\n",
              "      <th>3</th>\n",
              "      <td>Basically there's a family where a little boy ...</td>\n",
              "      <td>0</td>\n",
              "    </tr>\n",
              "    <tr>\n",
              "      <th>4</th>\n",
              "      <td>Petter Mattei's \"Love in the Time of Money\" is...</td>\n",
              "      <td>1</td>\n",
              "    </tr>\n",
              "  </tbody>\n",
              "</table>\n",
              "</div>\n",
              "      <button class=\"colab-df-convert\" onclick=\"convertToInteractive('df-e2db2388-98dc-45e8-bfce-207d0e1c80ee')\"\n",
              "              title=\"Convert this dataframe to an interactive table.\"\n",
              "              style=\"display:none;\">\n",
              "        \n",
              "  <svg xmlns=\"http://www.w3.org/2000/svg\" height=\"24px\"viewBox=\"0 0 24 24\"\n",
              "       width=\"24px\">\n",
              "    <path d=\"M0 0h24v24H0V0z\" fill=\"none\"/>\n",
              "    <path d=\"M18.56 5.44l.94 2.06.94-2.06 2.06-.94-2.06-.94-.94-2.06-.94 2.06-2.06.94zm-11 1L8.5 8.5l.94-2.06 2.06-.94-2.06-.94L8.5 2.5l-.94 2.06-2.06.94zm10 10l.94 2.06.94-2.06 2.06-.94-2.06-.94-.94-2.06-.94 2.06-2.06.94z\"/><path d=\"M17.41 7.96l-1.37-1.37c-.4-.4-.92-.59-1.43-.59-.52 0-1.04.2-1.43.59L10.3 9.45l-7.72 7.72c-.78.78-.78 2.05 0 2.83L4 21.41c.39.39.9.59 1.41.59.51 0 1.02-.2 1.41-.59l7.78-7.78 2.81-2.81c.8-.78.8-2.07 0-2.86zM5.41 20L4 18.59l7.72-7.72 1.47 1.35L5.41 20z\"/>\n",
              "  </svg>\n",
              "      </button>\n",
              "      \n",
              "  <style>\n",
              "    .colab-df-container {\n",
              "      display:flex;\n",
              "      flex-wrap:wrap;\n",
              "      gap: 12px;\n",
              "    }\n",
              "\n",
              "    .colab-df-convert {\n",
              "      background-color: #E8F0FE;\n",
              "      border: none;\n",
              "      border-radius: 50%;\n",
              "      cursor: pointer;\n",
              "      display: none;\n",
              "      fill: #1967D2;\n",
              "      height: 32px;\n",
              "      padding: 0 0 0 0;\n",
              "      width: 32px;\n",
              "    }\n",
              "\n",
              "    .colab-df-convert:hover {\n",
              "      background-color: #E2EBFA;\n",
              "      box-shadow: 0px 1px 2px rgba(60, 64, 67, 0.3), 0px 1px 3px 1px rgba(60, 64, 67, 0.15);\n",
              "      fill: #174EA6;\n",
              "    }\n",
              "\n",
              "    [theme=dark] .colab-df-convert {\n",
              "      background-color: #3B4455;\n",
              "      fill: #D2E3FC;\n",
              "    }\n",
              "\n",
              "    [theme=dark] .colab-df-convert:hover {\n",
              "      background-color: #434B5C;\n",
              "      box-shadow: 0px 1px 3px 1px rgba(0, 0, 0, 0.15);\n",
              "      filter: drop-shadow(0px 1px 2px rgba(0, 0, 0, 0.3));\n",
              "      fill: #FFFFFF;\n",
              "    }\n",
              "  </style>\n",
              "\n",
              "      <script>\n",
              "        const buttonEl =\n",
              "          document.querySelector('#df-e2db2388-98dc-45e8-bfce-207d0e1c80ee button.colab-df-convert');\n",
              "        buttonEl.style.display =\n",
              "          google.colab.kernel.accessAllowed ? 'block' : 'none';\n",
              "\n",
              "        async function convertToInteractive(key) {\n",
              "          const element = document.querySelector('#df-e2db2388-98dc-45e8-bfce-207d0e1c80ee');\n",
              "          const dataTable =\n",
              "            await google.colab.kernel.invokeFunction('convertToInteractive',\n",
              "                                                     [key], {});\n",
              "          if (!dataTable) return;\n",
              "\n",
              "          const docLinkHtml = 'Like what you see? Visit the ' +\n",
              "            '<a target=\"_blank\" href=https://colab.research.google.com/notebooks/data_table.ipynb>data table notebook</a>'\n",
              "            + ' to learn more about interactive tables.';\n",
              "          element.innerHTML = '';\n",
              "          dataTable['output_type'] = 'display_data';\n",
              "          await google.colab.output.renderOutput(dataTable, element);\n",
              "          const docLink = document.createElement('div');\n",
              "          docLink.innerHTML = docLinkHtml;\n",
              "          element.appendChild(docLink);\n",
              "        }\n",
              "      </script>\n",
              "    </div>\n",
              "  </div>\n",
              "  "
            ]
          },
          "metadata": {},
          "execution_count": 11
        }
      ]
    },
    {
      "cell_type": "code",
      "source": [
        "!pip install tensorflow_text"
      ],
      "metadata": {
        "id": "fHDxzcDoYNBT"
      },
      "execution_count": null,
      "outputs": []
    },
    {
      "cell_type": "code",
      "source": [
        "import tensorflow as tf\n",
        "import tensorflow_hub as hub\n",
        "import tensorflow_text as text\n",
        "from sklearn.model_selection import train_test_split"
      ],
      "metadata": {
        "id": "4FBcrCaKQbJI"
      },
      "execution_count": 18,
      "outputs": []
    },
    {
      "cell_type": "code",
      "source": [
        "X=df['review']\n",
        "y=df['sentiment']"
      ],
      "metadata": {
        "id": "oVQ-7L9jRg_R"
      },
      "execution_count": 19,
      "outputs": []
    },
    {
      "cell_type": "code",
      "source": [
        "X_train,X_test,y_train,y_test=train_test_split(X,y,test_size=0.2,random_state=42)"
      ],
      "metadata": {
        "id": "u05jT55LRCm_"
      },
      "execution_count": 20,
      "outputs": []
    },
    {
      "cell_type": "code",
      "source": [
        "bert_preprocess = hub.KerasLayer(\"https://tfhub.dev/tensorflow/bert_en_uncased_preprocess/3\")\n",
        "bert_encoder = hub.KerasLayer(\"https://tfhub.dev/tensorflow/bert_en_uncased_L-12_H-768_A-12/4\")"
      ],
      "metadata": {
        "id": "qCxMvty1RCgK"
      },
      "execution_count": 21,
      "outputs": []
    },
    {
      "cell_type": "code",
      "source": [
        "X_train.shape"
      ],
      "metadata": {
        "colab": {
          "base_uri": "https://localhost:8080/"
        },
        "id": "EObNtjV9RCcQ",
        "outputId": "9a89c82d-05de-4879-eff6-4e0ffafcaee8"
      },
      "execution_count": 22,
      "outputs": [
        {
          "output_type": "execute_result",
          "data": {
            "text/plain": [
              "(4420,)"
            ]
          },
          "metadata": {},
          "execution_count": 22
        }
      ]
    },
    {
      "cell_type": "code",
      "source": [
        "X_test.shape"
      ],
      "metadata": {
        "colab": {
          "base_uri": "https://localhost:8080/"
        },
        "id": "t4AUzLnrRCWx",
        "outputId": "eeb03f30-c82c-4971-8aa4-b7fe792c90f2"
      },
      "execution_count": 23,
      "outputs": [
        {
          "output_type": "execute_result",
          "data": {
            "text/plain": [
              "(1106,)"
            ]
          },
          "metadata": {},
          "execution_count": 23
        }
      ]
    },
    {
      "cell_type": "markdown",
      "source": [
        "## Define model "
      ],
      "metadata": {
        "id": "XM10hTEZSGZA"
      }
    },
    {
      "cell_type": "code",
      "source": [
        "#Bert layers  ...........\n",
        "\n",
        "input_text=tf.keras.layers.Input(shape=(),dtype=tf.string)\n",
        "pre_text=bert_preprocess(input_text)\n",
        "outputs=bert_encoder(pre_text)"
      ],
      "metadata": {
        "id": "FTq667iXSFKY"
      },
      "execution_count": 24,
      "outputs": []
    },
    {
      "cell_type": "code",
      "source": [
        "#Neural Layers....................\n",
        "\n",
        "l=tf.keras.layers.Dropout(0.1,name=\"drop\")(outputs['pooled_output'])\n",
        "l=tf.keras.layers.Dense(1,activation=\"sigmoid\",name=\"Dense\")(l)\n",
        "\n",
        "#model functional\n",
        "\n",
        "model=tf.keras.Model(inputs=[input_text],outputs=[l])\n",
        "\n"
      ],
      "metadata": {
        "id": "-WKDk5SqSbYB"
      },
      "execution_count": 25,
      "outputs": []
    },
    {
      "cell_type": "code",
      "source": [
        "model.summary()"
      ],
      "metadata": {
        "colab": {
          "base_uri": "https://localhost:8080/"
        },
        "id": "_MwCJ0VJVXF4",
        "outputId": "51e04d5c-2cc7-49a5-e790-2e5f8ca4c421"
      },
      "execution_count": 26,
      "outputs": [
        {
          "output_type": "stream",
          "name": "stdout",
          "text": [
            "Model: \"model\"\n",
            "__________________________________________________________________________________________________\n",
            " Layer (type)                   Output Shape         Param #     Connected to                     \n",
            "==================================================================================================\n",
            " input_1 (InputLayer)           [(None,)]            0           []                               \n",
            "                                                                                                  \n",
            " keras_layer (KerasLayer)       {'input_word_ids':   0           ['input_1[0][0]']                \n",
            "                                (None, 128),                                                      \n",
            "                                 'input_type_ids':                                                \n",
            "                                (None, 128),                                                      \n",
            "                                 'input_mask': (Non                                               \n",
            "                                e, 128)}                                                          \n",
            "                                                                                                  \n",
            " keras_layer_1 (KerasLayer)     {'pooled_output': (  109482241   ['keras_layer[0][0]',            \n",
            "                                None, 768),                       'keras_layer[0][1]',            \n",
            "                                 'sequence_output':               'keras_layer[0][2]']            \n",
            "                                 (None, 128, 768),                                                \n",
            "                                 'encoder_outputs':                                               \n",
            "                                 [(None, 128, 768),                                               \n",
            "                                 (None, 128, 768),                                                \n",
            "                                 (None, 128, 768),                                                \n",
            "                                 (None, 128, 768),                                                \n",
            "                                 (None, 128, 768),                                                \n",
            "                                 (None, 128, 768),                                                \n",
            "                                 (None, 128, 768),                                                \n",
            "                                 (None, 128, 768),                                                \n",
            "                                 (None, 128, 768),                                                \n",
            "                                 (None, 128, 768),                                                \n",
            "                                 (None, 128, 768),                                                \n",
            "                                 (None, 128, 768)],                                               \n",
            "                                 'default': (None,                                                \n",
            "                                768)}                                                             \n",
            "                                                                                                  \n",
            " drop (Dropout)                 (None, 768)          0           ['keras_layer_1[0][13]']         \n",
            "                                                                                                  \n",
            " Dense (Dense)                  (None, 1)            769         ['drop[0][0]']                   \n",
            "                                                                                                  \n",
            "==================================================================================================\n",
            "Total params: 109,483,010\n",
            "Trainable params: 769\n",
            "Non-trainable params: 109,482,241\n",
            "__________________________________________________________________________________________________\n"
          ]
        }
      ]
    },
    {
      "cell_type": "code",
      "source": [
        "METRICS=[tf.keras.metrics.BinaryAccuracy(name='accuracy'),\n",
        "      tf.keras.metrics.Precision(name='precision'),\n",
        "      tf.keras.metrics.Recall(name='recall')\n",
        "]\n",
        "\n",
        "model.compile(optimizer=\"adam\",loss=\"binary_crossentropy\",metrics=METRICS)\n",
        "\n"
      ],
      "metadata": {
        "id": "UFEcb0XTWISh"
      },
      "execution_count": 27,
      "outputs": []
    },
    {
      "cell_type": "code",
      "source": [
        "model.fit(X_train,y_train,epochs=100)"
      ],
      "metadata": {
        "colab": {
          "base_uri": "https://localhost:8080/"
        },
        "id": "5uDo1ufSWdci",
        "outputId": "14d46b3c-4162-43ee-f0e2-ef2556e90e20"
      },
      "execution_count": 46,
      "outputs": [
        {
          "output_type": "stream",
          "name": "stdout",
          "text": [
            "Epoch 1/100\n",
            "139/139 [==============================] - 52s 373ms/step - loss: 0.5570 - accuracy: 0.7183 - precision: 0.7176 - recall: 0.7127\n",
            "Epoch 2/100\n",
            "139/139 [==============================] - 50s 360ms/step - loss: 0.5480 - accuracy: 0.7249 - precision: 0.7271 - recall: 0.7132\n",
            "Epoch 3/100\n",
            "139/139 [==============================] - 50s 358ms/step - loss: 0.5434 - accuracy: 0.7287 - precision: 0.7344 - recall: 0.7100\n",
            "Epoch 4/100\n",
            "139/139 [==============================] - 50s 363ms/step - loss: 0.5410 - accuracy: 0.7305 - precision: 0.7326 - recall: 0.7196\n",
            "Epoch 5/100\n",
            "139/139 [==============================] - 50s 359ms/step - loss: 0.5390 - accuracy: 0.7251 - precision: 0.7287 - recall: 0.7104\n",
            "Epoch 6/100\n",
            "139/139 [==============================] - 50s 360ms/step - loss: 0.5419 - accuracy: 0.7283 - precision: 0.7320 - recall: 0.7136\n",
            "Epoch 7/100\n",
            "139/139 [==============================] - 51s 365ms/step - loss: 0.5397 - accuracy: 0.7281 - precision: 0.7308 - recall: 0.7155\n",
            "Epoch 8/100\n",
            "139/139 [==============================] - 50s 361ms/step - loss: 0.5275 - accuracy: 0.7326 - precision: 0.7326 - recall: 0.7259\n",
            "Epoch 9/100\n",
            "139/139 [==============================] - 51s 364ms/step - loss: 0.5299 - accuracy: 0.7400 - precision: 0.7435 - recall: 0.7269\n",
            "Epoch 10/100\n",
            "139/139 [==============================] - 50s 360ms/step - loss: 0.5278 - accuracy: 0.7355 - precision: 0.7433 - recall: 0.7132\n",
            "Epoch 11/100\n",
            "139/139 [==============================] - 50s 361ms/step - loss: 0.5239 - accuracy: 0.7455 - precision: 0.7498 - recall: 0.7310\n",
            "Epoch 12/100\n",
            "139/139 [==============================] - 50s 361ms/step - loss: 0.5251 - accuracy: 0.7446 - precision: 0.7500 - recall: 0.7278\n",
            "Epoch 13/100\n",
            "139/139 [==============================] - 50s 361ms/step - loss: 0.5168 - accuracy: 0.7482 - precision: 0.7479 - recall: 0.7428\n",
            "Epoch 14/100\n",
            "139/139 [==============================] - 50s 362ms/step - loss: 0.5198 - accuracy: 0.7477 - precision: 0.7526 - recall: 0.7323\n",
            "Epoch 15/100\n",
            "139/139 [==============================] - 50s 360ms/step - loss: 0.5195 - accuracy: 0.7425 - precision: 0.7436 - recall: 0.7342\n",
            "Epoch 16/100\n",
            "139/139 [==============================] - 50s 361ms/step - loss: 0.5217 - accuracy: 0.7505 - precision: 0.7578 - recall: 0.7305\n",
            "Epoch 17/100\n",
            "139/139 [==============================] - 50s 359ms/step - loss: 0.5228 - accuracy: 0.7428 - precision: 0.7502 - recall: 0.7218\n",
            "Epoch 18/100\n",
            "139/139 [==============================] - 50s 361ms/step - loss: 0.5104 - accuracy: 0.7482 - precision: 0.7500 - recall: 0.7387\n",
            "Epoch 19/100\n",
            "139/139 [==============================] - 50s 363ms/step - loss: 0.5146 - accuracy: 0.7493 - precision: 0.7541 - recall: 0.7342\n",
            "Epoch 20/100\n",
            "139/139 [==============================] - 50s 359ms/step - loss: 0.5199 - accuracy: 0.7457 - precision: 0.7508 - recall: 0.7296\n",
            "Epoch 21/100\n",
            "139/139 [==============================] - 50s 360ms/step - loss: 0.5123 - accuracy: 0.7536 - precision: 0.7577 - recall: 0.7401\n",
            "Epoch 22/100\n",
            "139/139 [==============================] - 50s 361ms/step - loss: 0.5131 - accuracy: 0.7538 - precision: 0.7588 - recall: 0.7387\n",
            "Epoch 23/100\n",
            "139/139 [==============================] - 50s 360ms/step - loss: 0.5122 - accuracy: 0.7489 - precision: 0.7546 - recall: 0.7319\n",
            "Epoch 24/100\n",
            "139/139 [==============================] - 51s 364ms/step - loss: 0.5135 - accuracy: 0.7464 - precision: 0.7500 - recall: 0.7332\n",
            "Epoch 25/100\n",
            "139/139 [==============================] - 50s 361ms/step - loss: 0.5178 - accuracy: 0.7541 - precision: 0.7544 - recall: 0.7478\n",
            "Epoch 26/100\n",
            "139/139 [==============================] - 50s 360ms/step - loss: 0.5143 - accuracy: 0.7495 - precision: 0.7583 - recall: 0.7269\n",
            "Epoch 27/100\n",
            "139/139 [==============================] - 50s 361ms/step - loss: 0.5034 - accuracy: 0.7491 - precision: 0.7559 - recall: 0.7301\n",
            "Epoch 28/100\n",
            "139/139 [==============================] - 50s 361ms/step - loss: 0.5047 - accuracy: 0.7561 - precision: 0.7646 - recall: 0.7346\n",
            "Epoch 29/100\n",
            "139/139 [==============================] - 51s 364ms/step - loss: 0.5121 - accuracy: 0.7570 - precision: 0.7599 - recall: 0.7460\n",
            "Epoch 30/100\n",
            "139/139 [==============================] - 50s 360ms/step - loss: 0.5060 - accuracy: 0.7563 - precision: 0.7581 - recall: 0.7474\n",
            "Epoch 31/100\n",
            "139/139 [==============================] - 50s 362ms/step - loss: 0.5166 - accuracy: 0.7437 - precision: 0.7486 - recall: 0.7278\n",
            "Epoch 32/100\n",
            "139/139 [==============================] - 50s 359ms/step - loss: 0.5108 - accuracy: 0.7534 - precision: 0.7562 - recall: 0.7424\n",
            "Epoch 33/100\n",
            "139/139 [==============================] - 50s 359ms/step - loss: 0.5022 - accuracy: 0.7606 - precision: 0.7671 - recall: 0.7433\n",
            "Epoch 34/100\n",
            "139/139 [==============================] - 50s 362ms/step - loss: 0.5017 - accuracy: 0.7609 - precision: 0.7625 - recall: 0.7524\n",
            "Epoch 35/100\n",
            "139/139 [==============================] - 50s 360ms/step - loss: 0.5056 - accuracy: 0.7473 - precision: 0.7526 - recall: 0.7310\n",
            "Epoch 36/100\n",
            "139/139 [==============================] - 50s 359ms/step - loss: 0.5079 - accuracy: 0.7577 - precision: 0.7669 - recall: 0.7351\n",
            "Epoch 37/100\n",
            "139/139 [==============================] - 50s 359ms/step - loss: 0.5090 - accuracy: 0.7561 - precision: 0.7589 - recall: 0.7451\n",
            "Epoch 38/100\n",
            "139/139 [==============================] - 50s 361ms/step - loss: 0.5031 - accuracy: 0.7629 - precision: 0.7657 - recall: 0.7524\n",
            "Epoch 39/100\n",
            "139/139 [==============================] - 51s 366ms/step - loss: 0.4996 - accuracy: 0.7595 - precision: 0.7650 - recall: 0.7437\n",
            "Epoch 40/100\n",
            "139/139 [==============================] - 50s 361ms/step - loss: 0.5038 - accuracy: 0.7588 - precision: 0.7639 - recall: 0.7437\n",
            "Epoch 41/100\n",
            "139/139 [==============================] - 50s 362ms/step - loss: 0.5027 - accuracy: 0.7548 - precision: 0.7578 - recall: 0.7433\n",
            "Epoch 42/100\n",
            "139/139 [==============================] - 50s 361ms/step - loss: 0.5020 - accuracy: 0.7518 - precision: 0.7580 - recall: 0.7342\n",
            "Epoch 43/100\n",
            "139/139 [==============================] - 50s 362ms/step - loss: 0.5049 - accuracy: 0.7538 - precision: 0.7566 - recall: 0.7428\n",
            "Epoch 44/100\n",
            "139/139 [==============================] - 51s 364ms/step - loss: 0.5121 - accuracy: 0.7534 - precision: 0.7564 - recall: 0.7419\n",
            "Epoch 45/100\n",
            "139/139 [==============================] - 50s 360ms/step - loss: 0.5047 - accuracy: 0.7516 - precision: 0.7515 - recall: 0.7460\n",
            "Epoch 46/100\n",
            "139/139 [==============================] - 50s 359ms/step - loss: 0.5082 - accuracy: 0.7489 - precision: 0.7572 - recall: 0.7269\n",
            "Epoch 47/100\n",
            "139/139 [==============================] - 50s 360ms/step - loss: 0.5009 - accuracy: 0.7566 - precision: 0.7584 - recall: 0.7474\n",
            "Epoch 48/100\n",
            "139/139 [==============================] - 50s 362ms/step - loss: 0.5015 - accuracy: 0.7581 - precision: 0.7614 - recall: 0.7465\n",
            "Epoch 49/100\n",
            "139/139 [==============================] - 50s 361ms/step - loss: 0.5065 - accuracy: 0.7468 - precision: 0.7495 - recall: 0.7355\n",
            "Epoch 50/100\n",
            "139/139 [==============================] - 50s 360ms/step - loss: 0.5050 - accuracy: 0.7590 - precision: 0.7676 - recall: 0.7378\n",
            "Epoch 51/100\n",
            "139/139 [==============================] - 50s 359ms/step - loss: 0.5069 - accuracy: 0.7498 - precision: 0.7562 - recall: 0.7314\n",
            "Epoch 52/100\n",
            "139/139 [==============================] - 50s 360ms/step - loss: 0.5065 - accuracy: 0.7557 - precision: 0.7578 - recall: 0.7460\n",
            "Epoch 53/100\n",
            "139/139 [==============================] - 50s 362ms/step - loss: 0.5000 - accuracy: 0.7652 - precision: 0.7667 - recall: 0.7570\n",
            "Epoch 54/100\n",
            "139/139 [==============================] - 50s 361ms/step - loss: 0.5006 - accuracy: 0.7548 - precision: 0.7571 - recall: 0.7446\n",
            "Epoch 55/100\n",
            "139/139 [==============================] - 50s 361ms/step - loss: 0.5018 - accuracy: 0.7554 - precision: 0.7574 - recall: 0.7460\n",
            "Epoch 56/100\n",
            "139/139 [==============================] - 50s 359ms/step - loss: 0.5010 - accuracy: 0.7514 - precision: 0.7539 - recall: 0.7405\n",
            "Epoch 57/100\n",
            "139/139 [==============================] - 50s 362ms/step - loss: 0.5045 - accuracy: 0.7595 - precision: 0.7613 - recall: 0.7506\n",
            "Epoch 58/100\n",
            "139/139 [==============================] - 50s 362ms/step - loss: 0.5019 - accuracy: 0.7602 - precision: 0.7614 - recall: 0.7524\n",
            "Epoch 59/100\n",
            "139/139 [==============================] - 50s 360ms/step - loss: 0.4978 - accuracy: 0.7618 - precision: 0.7681 - recall: 0.7446\n",
            "Epoch 60/100\n",
            "139/139 [==============================] - 50s 360ms/step - loss: 0.5026 - accuracy: 0.7572 - precision: 0.7639 - recall: 0.7392\n",
            "Epoch 61/100\n",
            "139/139 [==============================] - 50s 360ms/step - loss: 0.5009 - accuracy: 0.7581 - precision: 0.7595 - recall: 0.7501\n",
            "Epoch 62/100\n",
            "139/139 [==============================] - 50s 361ms/step - loss: 0.4968 - accuracy: 0.7577 - precision: 0.7644 - recall: 0.7396\n",
            "Epoch 63/100\n",
            "139/139 [==============================] - 50s 363ms/step - loss: 0.5054 - accuracy: 0.7514 - precision: 0.7580 - recall: 0.7328\n",
            "Epoch 64/100\n",
            "139/139 [==============================] - 50s 359ms/step - loss: 0.5025 - accuracy: 0.7538 - precision: 0.7571 - recall: 0.7419\n",
            "Epoch 65/100\n",
            "139/139 [==============================] - 50s 360ms/step - loss: 0.4936 - accuracy: 0.7624 - precision: 0.7679 - recall: 0.7469\n",
            "Epoch 66/100\n",
            "139/139 [==============================] - 50s 359ms/step - loss: 0.4959 - accuracy: 0.7602 - precision: 0.7597 - recall: 0.7556\n",
            "Epoch 67/100\n",
            "139/139 [==============================] - 50s 360ms/step - loss: 0.4957 - accuracy: 0.7575 - precision: 0.7615 - recall: 0.7442\n",
            "Epoch 68/100\n",
            "139/139 [==============================] - 50s 360ms/step - loss: 0.4967 - accuracy: 0.7593 - precision: 0.7674 - recall: 0.7387\n",
            "Epoch 69/100\n",
            "139/139 [==============================] - 50s 360ms/step - loss: 0.5020 - accuracy: 0.7590 - precision: 0.7643 - recall: 0.7437\n",
            "Epoch 70/100\n",
            "139/139 [==============================] - 50s 361ms/step - loss: 0.4997 - accuracy: 0.7543 - precision: 0.7595 - recall: 0.7387\n",
            "Epoch 71/100\n",
            "139/139 [==============================] - 50s 358ms/step - loss: 0.4966 - accuracy: 0.7588 - precision: 0.7615 - recall: 0.7483\n",
            "Epoch 72/100\n",
            "139/139 [==============================] - 50s 359ms/step - loss: 0.5033 - accuracy: 0.7586 - precision: 0.7651 - recall: 0.7410\n",
            "Epoch 73/100\n",
            "139/139 [==============================] - 51s 364ms/step - loss: 0.4983 - accuracy: 0.7554 - precision: 0.7572 - recall: 0.7465\n",
            "Epoch 74/100\n",
            "139/139 [==============================] - 50s 361ms/step - loss: 0.5048 - accuracy: 0.7486 - precision: 0.7502 - recall: 0.7396\n",
            "Epoch 75/100\n",
            "139/139 [==============================] - 50s 361ms/step - loss: 0.5093 - accuracy: 0.7480 - precision: 0.7501 - recall: 0.7378\n",
            "Epoch 76/100\n",
            "139/139 [==============================] - 50s 358ms/step - loss: 0.5020 - accuracy: 0.7631 - precision: 0.7678 - recall: 0.7492\n",
            "Epoch 77/100\n",
            "139/139 [==============================] - 50s 363ms/step - loss: 0.4979 - accuracy: 0.7559 - precision: 0.7652 - recall: 0.7328\n",
            "Epoch 78/100\n",
            "139/139 [==============================] - 50s 360ms/step - loss: 0.4960 - accuracy: 0.7688 - precision: 0.7719 - recall: 0.7579\n",
            "Epoch 79/100\n",
            "139/139 [==============================] - 50s 360ms/step - loss: 0.4990 - accuracy: 0.7613 - precision: 0.7651 - recall: 0.7487\n",
            "Epoch 80/100\n",
            "139/139 [==============================] - 50s 360ms/step - loss: 0.4964 - accuracy: 0.7624 - precision: 0.7662 - recall: 0.7501\n",
            "Epoch 81/100\n",
            "139/139 [==============================] - 50s 360ms/step - loss: 0.4998 - accuracy: 0.7509 - precision: 0.7535 - recall: 0.7401\n",
            "Epoch 82/100\n",
            "139/139 [==============================] - 50s 361ms/step - loss: 0.4980 - accuracy: 0.7541 - precision: 0.7570 - recall: 0.7428\n",
            "Epoch 83/100\n",
            "139/139 [==============================] - 50s 361ms/step - loss: 0.4953 - accuracy: 0.7661 - precision: 0.7694 - recall: 0.7547\n",
            "Epoch 84/100\n",
            "139/139 [==============================] - 50s 358ms/step - loss: 0.4954 - accuracy: 0.7602 - precision: 0.7676 - recall: 0.7410\n",
            "Epoch 85/100\n",
            "139/139 [==============================] - 50s 360ms/step - loss: 0.5031 - accuracy: 0.7595 - precision: 0.7621 - recall: 0.7492\n",
            "Epoch 86/100\n",
            "139/139 [==============================] - 50s 360ms/step - loss: 0.4974 - accuracy: 0.7577 - precision: 0.7629 - recall: 0.7424\n",
            "Epoch 87/100\n",
            "139/139 [==============================] - 50s 363ms/step - loss: 0.4951 - accuracy: 0.7584 - precision: 0.7586 - recall: 0.7524\n",
            "Epoch 88/100\n",
            "139/139 [==============================] - 50s 361ms/step - loss: 0.5005 - accuracy: 0.7498 - precision: 0.7553 - recall: 0.7332\n",
            "Epoch 89/100\n",
            "139/139 [==============================] - 50s 360ms/step - loss: 0.4921 - accuracy: 0.7652 - precision: 0.7682 - recall: 0.7542\n",
            "Epoch 90/100\n",
            "139/139 [==============================] - 50s 360ms/step - loss: 0.4900 - accuracy: 0.7652 - precision: 0.7725 - recall: 0.7465\n",
            "Epoch 91/100\n",
            "139/139 [==============================] - 50s 359ms/step - loss: 0.5044 - accuracy: 0.7548 - precision: 0.7632 - recall: 0.7332\n",
            "Epoch 92/100\n",
            "139/139 [==============================] - 51s 364ms/step - loss: 0.4910 - accuracy: 0.7643 - precision: 0.7685 - recall: 0.7510\n",
            "Epoch 93/100\n",
            "139/139 [==============================] - 50s 360ms/step - loss: 0.4958 - accuracy: 0.7590 - precision: 0.7640 - recall: 0.7442\n",
            "Epoch 94/100\n",
            "139/139 [==============================] - 50s 360ms/step - loss: 0.4927 - accuracy: 0.7613 - precision: 0.7676 - recall: 0.7442\n",
            "Epoch 95/100\n",
            "139/139 [==============================] - 50s 360ms/step - loss: 0.5017 - accuracy: 0.7561 - precision: 0.7587 - recall: 0.7456\n",
            "Epoch 96/100\n",
            "139/139 [==============================] - 50s 362ms/step - loss: 0.4991 - accuracy: 0.7572 - precision: 0.7617 - recall: 0.7433\n",
            "Epoch 97/100\n",
            "139/139 [==============================] - 51s 365ms/step - loss: 0.5022 - accuracy: 0.7584 - precision: 0.7625 - recall: 0.7451\n",
            "Epoch 98/100\n",
            "139/139 [==============================] - 50s 362ms/step - loss: 0.4953 - accuracy: 0.7631 - precision: 0.7683 - recall: 0.7483\n",
            "Epoch 99/100\n",
            "139/139 [==============================] - 50s 363ms/step - loss: 0.5010 - accuracy: 0.7606 - precision: 0.7686 - recall: 0.7405\n",
            "Epoch 100/100\n",
            "139/139 [==============================] - 51s 364ms/step - loss: 0.4940 - accuracy: 0.7713 - precision: 0.7759 - recall: 0.7579\n"
          ]
        },
        {
          "output_type": "execute_result",
          "data": {
            "text/plain": [
              "<keras.callbacks.History at 0x7f87821eb9d0>"
            ]
          },
          "metadata": {},
          "execution_count": 46
        }
      ]
    },
    {
      "cell_type": "code",
      "source": [
        "import numpy as np\n",
        "\n",
        "pred_y=model.predict(X_test)\n",
        "pred_y=np.where(pred_y>0.5,1,0)"
      ],
      "metadata": {
        "colab": {
          "base_uri": "https://localhost:8080/"
        },
        "id": "VvH72AFMWdZR",
        "outputId": "739bb8ab-22df-4215-8900-f2add156fd93"
      },
      "execution_count": 47,
      "outputs": [
        {
          "output_type": "stream",
          "name": "stdout",
          "text": [
            "35/35 [==============================] - 12s 336ms/step\n"
          ]
        }
      ]
    },
    {
      "cell_type": "code",
      "source": [
        "from sklearn.metrics import confusion_matrix\n",
        "\n",
        "cm=confusion_matrix(y_test,pred_y)"
      ],
      "metadata": {
        "id": "ZGkarCSnZWnh"
      },
      "execution_count": 48,
      "outputs": []
    },
    {
      "cell_type": "code",
      "source": [
        "import seaborn as sns\n",
        "\n",
        "sns.heatmap(cm,annot=True)"
      ],
      "metadata": {
        "colab": {
          "base_uri": "https://localhost:8080/",
          "height": 450
        },
        "id": "vglyWUzObrrh",
        "outputId": "a5e26ba9-fdf0-4849-bed7-79aae52c8d87"
      },
      "execution_count": 49,
      "outputs": [
        {
          "output_type": "execute_result",
          "data": {
            "text/plain": [
              "<Axes: >"
            ]
          },
          "metadata": {},
          "execution_count": 49
        },
        {
          "output_type": "display_data",
          "data": {
            "text/plain": [
              "<Figure size 640x480 with 2 Axes>"
            ],
            "image/png": "[encoded data removed]"
          },
          "metadata": {}
        }
      ]
    },
    {
      "cell_type": "code",
      "source": [
        "from sklearn.metrics import classification_report\n",
        "\n",
        "\n",
        "print(classification_report(y_test,pred_y))"
      ],
      "metadata": {
        "colab": {
          "base_uri": "https://localhost:8080/"
        },
        "id": "a9m08QiPbwVQ",
        "outputId": "00b1b01d-787e-4deb-8461-30567f1d270a"
      },
      "execution_count": 50,
      "outputs": [
        {
          "output_type": "stream",
          "name": "stdout",
          "text": [
            "              precision    recall  f1-score   support\n",
            "\n",
            "           0       0.81      0.73      0.77       561\n",
            "           1       0.75      0.83      0.79       545\n",
            "\n",
            "    accuracy                           0.78      1106\n",
            "   macro avg       0.78      0.78      0.78      1106\n",
            "weighted avg       0.78      0.78      0.78      1106\n",
            "\n"
          ]
        }
      ]
    },
    {
      "cell_type": "code",
      "source": [
        "sent=[\"movie is bad\"]\n",
        "\n",
        "model.predict(sent)"
      ],
      "metadata": {
        "colab": {
          "base_uri": "https://localhost:8080/"
        },
        "id": "rs4SxkM3c8E9",
        "outputId": "92b20b0e-4288-441c-a363-1263d6d1ed82"
      },
      "execution_count": 52,
      "outputs": [
        {
          "output_type": "stream",
          "name": "stdout",
          "text": [
            "1/1 [==============================] - 0s 214ms/step\n"
          ]
        },
        {
          "output_type": "execute_result",
          "data": {
            "text/plain": [
              "array([[0.43597707]], dtype=float32)"
            ]
          },
          "metadata": {},
          "execution_count": 52
        }
      ]
    },
    {
      "cell_type": "code",
      "source": [],
      "metadata": {
        "id": "2RXADbfhdUYJ"
      },
      "execution_count": null,
      "outputs": []
    }
  ]
}